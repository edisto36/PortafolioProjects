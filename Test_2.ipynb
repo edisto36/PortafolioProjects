{
  "nbformat": 4,
  "nbformat_minor": 0,
  "metadata": {
    "colab": {
      "provenance": [],
      "authorship_tag": "ABX9TyM97BvGZBG3UdpcOzdf48cT",
      "include_colab_link": true
    },
    "kernelspec": {
      "name": "python3",
      "display_name": "Python 3"
    },
    "language_info": {
      "name": "python"
    }
  },
  "cells": [
    {
      "cell_type": "markdown",
      "metadata": {
        "id": "view-in-github",
        "colab_type": "text"
      },
      "source": [
        "<a href=\"https://colab.research.google.com/github/edisto36/PortafolioProjects/blob/main/Test_2.ipynb\" target=\"_parent\"><img src=\"https://colab.research.google.com/assets/colab-badge.svg\" alt=\"Open In Colab\"/></a>"
      ]
    },
    {
      "cell_type": "code",
      "source": [
        "def fahrenheit_to_celsius(fahrenheit):\n",
        "    \"\"\"Convert Fahrenheit to Celsius.\"\"\"\n",
        "    celsius = (fahrenheit - 32) * 5.0/9.0\n",
        "    return celsius"
      ],
      "metadata": {
        "id": "wP2z4h-gPFp4"
      },
      "execution_count": 3,
      "outputs": []
    }
  ]
}